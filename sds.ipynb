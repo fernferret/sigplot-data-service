{
 "cells": [
  {
   "cell_type": "code",
   "execution_count": null,
   "metadata": {},
   "outputs": [],
   "source": [
    "import struct\n",
    "import matplotlib.pyplot as plt\n",
    "def makeplotdata(data,filexsize,fileysize):\n",
    "    numberofElements = filexsize * fileysize\n",
    "    #data = struct.unpack('i'*numberofElements,data)\n",
    "    x = []\n",
    "    y = []\n",
    "    c = []\n",
    "    for yy in range(fileysize):\n",
    "        for xx in range(filexsize):\n",
    "            x.append(xx)\n",
    "            y.append(yy)\n",
    "            print \n",
    "            c.append(data[xx+filexsize*yy])\n",
    "    return (x,y,c)\n"
   ]
  },
  {
   "cell_type": "code",
   "execution_count": null,
   "metadata": {},
   "outputs": [],
   "source": [
    "def makeplotboxdata(xstart,ystart,xsize,ysize):\n",
    "    \n",
    "    #Bottom Line\n",
    "    x=list(range(xstart,xstart+xsize))\n",
    "    y=[ystart]*xsize\n",
    "    \n",
    "    # Top Line\n",
    "    x+=list(range(xstart,xstart+xsize))\n",
    "    y+=[ystart+ysize]*xsize\n",
    "    \n",
    "    #Left Line\n",
    "    x+=[xstart]*ysize\n",
    "    y+=list(range(ystart,ystart+ysize))\n",
    "    \n",
    "    #Right Line\n",
    "    x+=[xstart+xsize]*ysize\n",
    "    y+=list(range(ystart,ystart+ysize))\n",
    "    \n",
    "    return(x,y)\n"
   ]
  },
  {
   "cell_type": "code",
   "execution_count": null,
   "metadata": {},
   "outputs": [],
   "source": [
    "import struct\n",
    "import matplotlib.pyplot as plt\n",
    "def readfile(filename):\n",
    "    \"\"\" Read a Datafile. It is assumed that the data file be reach by Juypter. \n",
    "    Files are assumed to be 2D integer files with the size in the file name with underscores \"\"\"\n",
    "    f = open(filename,\"rb\")\n",
    "    (basename,file_format,filexsize,fileysize) = str.split(filename,\"_\")\n",
    "    filexsize = int(filexsize)\n",
    "    fileysize= int(fileysize)\n",
    "    data = f.read()\n",
    "    return data     \n"
   ]
  },
  {
   "cell_type": "code",
   "execution_count": null,
   "metadata": {},
   "outputs": [],
   "source": [
    "import urllib.request\n",
    "import struct\n",
    "def request_sds_data(filename,x1,y1,x2,y2,outxsize,outysize,transform):\n",
    "\n",
    "\n",
    "    with urllib.request.urlopen('http://192.168.1.229:5055/sds?filename=%s&x1=%i&y1=%i&x2=%i&y2=%i&outxsize=%i&outysize=%i&transform=%s' \n",
    "                                %(filename,x1,y1,x2,y2,outxsize,outysize,transform)) as response:\n",
    "       data = response.read()\n",
    "    #intdata=struct.unpack('i'*(xsize*ysize),data) \n",
    "    #intdata=struct.unpack('i',data)                        \n",
    "    #print(intdata)\n",
    "    return data"
   ]
  },
  {
   "cell_type": "code",
   "execution_count": null,
   "metadata": {},
   "outputs": [],
   "source": [
    "filename = \"mydata_SL_500_1000\"\n",
    "datasizex = 500\n",
    "datasizey = 1000\n",
    "figurexsize = 7.0\n",
    "data = readfile(filename)\n",
    "\n",
    "figureysize = figurexsize/datasizex*datasizey\n",
    "x1,y1,c1 = makeplotdata(data,datasizex,datasizey)\n",
    "\n",
    "plt.figure(figsize=(figurexsize,figureysize))\n",
    "\n",
    "plt.scatter(x1,y1,c=c1,cmap='rainbow',vmin=-datasizey,vmax=datasizex)\n",
    "plt.show()\n",
    "\n",
    "#x,y = makeplotboxdata(startx,starty,requestxsize,requestysize)  \n",
    "#plt.scatter(x,y,c='#000000')"
   ]
  },
  {
   "cell_type": "code",
   "execution_count": null,
   "metadata": {},
   "outputs": [],
   "source": [
    "import datetime\n",
    "\n",
    "def plotsubsection(requestxsize,requestysize,startx,starty,outxsize,outysize,transform):\n",
    "    outfigurexsize=figurexsize/datasizex*requestxsize\n",
    "    outfigureysize=figurexsize/datasizex*requestysize\n",
    "\n",
    "    plt.figure(figsize=(outfigurexsize,outfigureysize))\n",
    "    print(\"5. \" ,datetime.datetime.now())\n",
    "    data= request_sds_data(filename,startx,starty,startx+requestxsize,starty+requestysize,outxsize,outysize,transform)\n",
    "    print(\"6. \" ,datetime.datetime.now())\n",
    "    x,y,c =makeplotdata(data,outxsize,outysize)\n",
    "    plt.scatter(x,y,c=c,cmap='rainbow',vmin=-datasizey,vmax=datasizex)\n",
    "    plt.show()\n"
   ]
  },
  {
   "cell_type": "code",
   "execution_count": null,
   "metadata": {},
   "outputs": [],
   "source": [
    "requestxsize = 500\n",
    "requestysize = 1000\n",
    "startx = 0\n",
    "starty = 0\n",
    "outxsize = 100\n",
    "outysize = 200\n",
    "transform = \"max\"\n",
    "\n",
    "plotsubsection(requestxsize,requestysize,startx,starty,outxsize,outysize,transform)\n"
   ]
  },
  {
   "cell_type": "code",
   "execution_count": null,
   "metadata": {},
   "outputs": [],
   "source": [
    "requestxsize = 500\n",
    "requestysize = 1000\n",
    "startx = 0\n",
    "starty = 0\n",
    "outxsize = 100\n",
    "outysize = 200\n",
    "transform = \"mean\"\n",
    "\n",
    "plotsubsection(requestxsize,requestysize,startx,starty,outxsize,outysize,transform)\n"
   ]
  },
  {
   "cell_type": "code",
   "execution_count": null,
   "metadata": {},
   "outputs": [],
   "source": [
    "requestxsize = 100\n",
    "requestysize = 200\n",
    "startx = 10\n",
    "starty = 800\n",
    "outxsize = 50\n",
    "outysize = 100\n",
    "transform = \"mean\"\n",
    "\n",
    "plotsubsection(requestxsize,requestysize,startx,starty,outxsize,outysize,transform)\n"
   ]
  },
  {
   "cell_type": "code",
   "execution_count": null,
   "metadata": {},
   "outputs": [],
   "source": [
    "requestxsize = 1\n",
    "requestysize = 1\n",
    "startx = 0\n",
    "starty = 999\n",
    "outxsize = 1\n",
    "outysize = 1\n",
    "transform = \"mean\"\n",
    "\n",
    "plotsubsection(requestxsize,requestysize,startx,starty,outxsize,outysize,transform)\n"
   ]
  },
  {
   "cell_type": "code",
   "execution_count": null,
   "metadata": {},
   "outputs": [],
   "source": []
  }
 ],
 "metadata": {
  "kernelspec": {
   "display_name": "Python 3",
   "language": "python",
   "name": "python3"
  },
  "language_info": {
   "codemirror_mode": {
    "name": "ipython",
    "version": 3
   },
   "file_extension": ".py",
   "mimetype": "text/x-python",
   "name": "python",
   "nbconvert_exporter": "python",
   "pygments_lexer": "ipython3",
   "version": "3.7.3"
  }
 },
 "nbformat": 4,
 "nbformat_minor": 2
}
